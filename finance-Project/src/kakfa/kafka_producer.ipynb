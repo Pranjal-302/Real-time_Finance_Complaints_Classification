{
 "cells": [
  {
   "cell_type": "code",
   "execution_count": 9,
   "id": "efd80ffe",
   "metadata": {},
   "outputs": [
    {
     "name": "stdout",
     "output_type": "stream",
     "text": [
      "============ Sending filename=complaints-2023-12-11_07_04.csv=================\n",
      "=============File sent successfully filename =complaints-2023-12-11_07_04.csv=============\n",
      "============ Sending filename=complaints-2023-12-11_07_17.csv=================\n",
      "=============File sent successfully filename =complaints-2023-12-11_07_17.csv=============\n"
     ]
    }
   ],
   "source": [
    "# Install kafka\n",
    "# !pip install kafka-python\n",
    "\n",
    "from kafka import KafkaProducer\n",
    "import json\n",
    "import csv\n",
    "import os\n",
    "import time\n",
    "\n",
    "kafka_config = open('../../config/kafka_config.json')\n",
    "kafka_config = json.load(kafka_config)\n",
    "\n",
    "scrapper_config = open('../../config/scrapper_config.json')\n",
    "scrapper_config = json.load(scrapper_config)\n",
    "\n",
    "scrapped_file = os.listdir(scrapper_config[\"scrapped_dir\"])\n",
    "\n",
    "producer = KafkaProducer(bootstrap_servers=kafka_config[\"bootstrap_servers_IP_port\"], value_serializer=lambda v: json.dumps(v).encode('utf-8'),)\n",
    "\n",
    "for file in scrapped_file:\n",
    "    print(f\"============ Sending filename={file}=================\")\n",
    "    with open(scrapper_config[\"scrapped_dir\"]+file, 'r') as datafile:\n",
    "            csv_reader = csv.DictReader(datafile)\n",
    "            for row in csv_reader:\n",
    "                producer.send(kafka_config[\"kafka_topic\"], value=row)\n",
    "            print(f\"=============File sent successfully filename ={file}=============\")\n",
    "\n",
    "            \n",
    "# for file in scrapped_file:\n",
    "#     os.remove(scrapper_config[\"scrapped_dir\"]+file)\n",
    "#     print(f\"=============File deleted successfully filename ={file}=============\")"
   ]
  },
  {
   "cell_type": "code",
   "execution_count": null,
   "id": "dec479d8",
   "metadata": {},
   "outputs": [],
   "source": []
  }
 ],
 "metadata": {
  "kernelspec": {
   "display_name": "myconsumerenv",
   "language": "python",
   "name": "myconsumerenv"
  },
  "language_info": {
   "codemirror_mode": {
    "name": "ipython",
    "version": 3
   },
   "file_extension": ".py",
   "mimetype": "text/x-python",
   "name": "python",
   "nbconvert_exporter": "python",
   "pygments_lexer": "ipython3",
   "version": "3.11.5"
  }
 },
 "nbformat": 4,
 "nbformat_minor": 5
}
