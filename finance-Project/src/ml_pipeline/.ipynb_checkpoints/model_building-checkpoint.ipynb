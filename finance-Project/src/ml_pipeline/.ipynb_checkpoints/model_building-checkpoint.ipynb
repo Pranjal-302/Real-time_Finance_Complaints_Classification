{
 "cells": [
  {
   "cell_type": "code",
   "execution_count": 51,
   "id": "d93b6f4c",
   "metadata": {},
   "outputs": [],
   "source": [
    "import json\n",
    "import joblib\n",
    "import pandas as pd\n",
    "from sklearn.model_selection import train_test_split, RandomizedSearchCV\n",
    "from sklearn import model_selection, preprocessing, linear_model, metrics, svm\n",
    "from sklearn.feature_extraction.text import TfidfVectorizer\n",
    "from sklearn.ensemble import RandomForestClassifier\n",
    "from sklearn.naive_bayes import MultinomialNB\n",
    "from sklearn.svm import SVC\n",
    "from xgboost import XGBClassifier\n",
    "from scipy.stats import loguniform,uniform,randint\n",
    "import warnings\n",
    "warnings.filterwarnings(\"ignore\")\n",
    "\n",
    "\n",
    "ml_pipeline_config = open('../../config/ml_pipeline.json')\n",
    "ml_pipeline_config = json.load(ml_pipeline_config)"
   ]
  },
  {
   "cell_type": "code",
   "execution_count": 2,
   "id": "2cd13632",
   "metadata": {},
   "outputs": [],
   "source": [
    "data = pd.read_csv(ml_pipeline_config[\"processed_data_path\"])\n",
    "data = data[['product','consumer_complaint_narrative']]\n",
    "data = data[data['consumer_complaint_narrative'].notnull()]\n",
    "x = data['consumer_complaint_narrative']\n",
    "y = data['product']\n",
    "trainx,testx,trainy,testy = train_test_split(x,y,train_size=ml_pipeline_config[\"train_size\"],random_state=30)"
   ]
  },
  {
   "cell_type": "code",
   "execution_count": 60,
   "id": "68e9f6f0",
   "metadata": {},
   "outputs": [
    {
     "data": {
      "text/plain": [
       "['../../models/vectorizer.joblib']"
      ]
     },
     "execution_count": 60,
     "metadata": {},
     "output_type": "execute_result"
    }
   ],
   "source": [
    "encoder = preprocessing.LabelEncoder()\n",
    "trainy = encoder.fit_transform(trainy)\n",
    "testy = encoder.fit_transform(testy)\n",
    "joblib.dump(encoder, '../../models/label_encoder.joblib')\n",
    "\n",
    "tfidf_vect = TfidfVectorizer(analyzer='word',token_pattern=r'\\w{1,}',max_features=5000)\n",
    "tfidf_vect.fit(data['consumer_complaint_narrative'])\n",
    "xtrain_tfidf = tfidf_vect.transform(trainx) \n",
    "xtest_tfidf = tfidf_vect.transform(testx)\n",
    "joblib.dump(tfidf_vect, '../../models/vectorizer.joblib')"
   ]
  },
  {
   "cell_type": "code",
   "execution_count": 4,
   "id": "48f3abcd",
   "metadata": {},
   "outputs": [
    {
     "data": {
      "text/plain": [
       "0.85444366689993"
      ]
     },
     "execution_count": 4,
     "metadata": {},
     "output_type": "execute_result"
    }
   ],
   "source": [
    "logistic_model = linear_model.LogisticRegression()\n",
    "logistic_model.fit(xtrain_tfidf,trainy)\n",
    "logistic_accuracy = metrics.accuracy_score(logistic_model.predict(xtest_tfidf),testy)\n",
    "logistic_accuracy"
   ]
  },
  {
   "cell_type": "code",
   "execution_count": 19,
   "id": "e7c03db1",
   "metadata": {},
   "outputs": [
    {
     "data": {
      "text/plain": [
       "0.8656403079076277"
      ]
     },
     "execution_count": 19,
     "metadata": {},
     "output_type": "execute_result"
    }
   ],
   "source": [
    "## with RandomSearchCV\n",
    "param_dist = {\n",
    "    'penalty': ['l1', 'l2', 'elasticnet', 'none'],\n",
    "    'C': loguniform(1e-4, 1e4),\n",
    "    'solver': ['newton-cg', 'lbfgs', 'liblinear', 'sag', 'saga'],\n",
    "    'max_iter': [100, 200, 300, 400, 500]\n",
    "}\n",
    "\n",
    "logistic_model = linear_model.LogisticRegression()\n",
    "random_search = RandomizedSearchCV(logistic_model, param_distributions=param_dist, n_iter=10, cv=5, scoring='accuracy', random_state=42, n_jobs=-1)\n",
    "random_search.fit(xtrain_tfidf,trainy)\n",
    "best_logistic_model = random_search.best_estimator_\n",
    "logistic_accuracy = metrics.accuracy_score(best_logistic_model.predict(xtest_tfidf),testy)\n",
    "logistic_accuracy"
   ]
  },
  {
   "cell_type": "code",
   "execution_count": 5,
   "id": "b1823aa7",
   "metadata": {},
   "outputs": [
    {
     "data": {
      "text/plain": [
       "0.7564730580825753"
      ]
     },
     "execution_count": 5,
     "metadata": {},
     "output_type": "execute_result"
    }
   ],
   "source": [
    "naive_model = MultinomialNB()\n",
    "naive_model.fit(xtrain_tfidf,trainy)\n",
    "naive_accuracy = metrics.accuracy_score(naive_model.predict(xtest_tfidf),testy)\n",
    "naive_accuracy"
   ]
  },
  {
   "cell_type": "code",
   "execution_count": 22,
   "id": "2e6cee15",
   "metadata": {},
   "outputs": [
    {
     "data": {
      "text/plain": [
       "0.8376487053883834"
      ]
     },
     "execution_count": 22,
     "metadata": {},
     "output_type": "execute_result"
    }
   ],
   "source": [
    "param_dist = {\n",
    "    'alpha': uniform(0.1, 2.0),  # Smoothing parameter (Laplace smoothing)\n",
    "}\n",
    "naive_model = MultinomialNB()\n",
    "random_search = RandomizedSearchCV(naive_model, param_distributions=param_dist, n_iter=10, cv=5, scoring='accuracy', random_state=42, n_jobs=-1)\n",
    "random_search.fit(xtrain_tfidf,trainy)\n",
    "best_naive_model = random_search.best_estimator_\n",
    "naive_accuracy = metrics.accuracy_score(best_naive_model.predict(xtest_tfidf),testy)\n",
    "naive_accuracy"
   ]
  },
  {
   "cell_type": "code",
   "execution_count": 23,
   "id": "1ad71496",
   "metadata": {},
   "outputs": [
    {
     "data": {
      "text/plain": [
       "0.867739678096571"
      ]
     },
     "execution_count": 23,
     "metadata": {},
     "output_type": "execute_result"
    }
   ],
   "source": [
    "svm_model = SVC(kernel='linear', C=1.0, random_state=42)\n",
    "svm_model.fit(xtrain_tfidf,trainy)\n",
    "svm_accuracy = metrics.accuracy_score(svm_model.predict(xtest_tfidf),testy)\n",
    "svm_accuracy"
   ]
  },
  {
   "cell_type": "code",
   "execution_count": 24,
   "id": "d7e930e6",
   "metadata": {},
   "outputs": [
    {
     "data": {
      "text/plain": [
       "0.8698390482855144"
      ]
     },
     "execution_count": 24,
     "metadata": {},
     "output_type": "execute_result"
    }
   ],
   "source": [
    "param_dist = {\n",
    "    'C': uniform(0.1, 2.0),  # Regularization parameter\n",
    "    'kernel': ['linear', 'poly', 'rbf', 'sigmoid'],  # Choice of kernel\n",
    "    'gamma': ['scale', 'auto'] + list(uniform(0.1, 2.0).rvs(5))  # For 'rbf', 'poly', 'sigmoid'\n",
    "}\n",
    "\n",
    "svm_model = SVC()\n",
    "random_search = RandomizedSearchCV(svm_model, param_distributions=param_dist, n_iter=10, cv=5, scoring='accuracy', random_state=42, n_jobs=-1)\n",
    "random_search.fit(xtrain_tfidf,trainy)\n",
    "best_svm_model = random_search.best_estimator_\n",
    "svm_accuracy = metrics.accuracy_score(best_svm_model.predict(xtest_tfidf),testy)\n",
    "svm_accuracy"
   ]
  },
  {
   "cell_type": "code",
   "execution_count": 8,
   "id": "f8fd4144",
   "metadata": {},
   "outputs": [
    {
     "data": {
      "text/plain": [
       "0.8390482855143457"
      ]
     },
     "execution_count": 8,
     "metadata": {},
     "output_type": "execute_result"
    }
   ],
   "source": [
    "xgboost_model = XGBClassifier(n_estimators=100, learning_rate=0.1, random_state=42)\n",
    "xgboost_model.fit(xtrain_tfidf,trainy)\n",
    "xgboost_accuracy = metrics.accuracy_score(xgboost_model.predict(xtest_tfidf),testy)\n",
    "xgboost_accuracy"
   ]
  },
  {
   "cell_type": "code",
   "execution_count": 27,
   "id": "2ca27081",
   "metadata": {},
   "outputs": [
    {
     "data": {
      "text/plain": [
       "0.8509447165850245"
      ]
     },
     "execution_count": 27,
     "metadata": {},
     "output_type": "execute_result"
    }
   ],
   "source": [
    "param_dist = {\n",
    "    'learning_rate': uniform(0.01, 0.2),\n",
    "    'n_estimators': randint(50, 200),\n",
    "    'max_depth': randint(3, 10),\n",
    "    'subsample': uniform(0.5, 0.5),\n",
    "    'colsample_bytree': uniform(0.5, 0.5),\n",
    "}\n",
    "\n",
    "xgboost_model = XGBClassifier()\n",
    "random_search = RandomizedSearchCV(xgboost_model, param_distributions=param_dist, n_iter=10, cv=5, scoring='accuracy', random_state=42, n_jobs=-1)\n",
    "random_search.fit(xtrain_tfidf,trainy)\n",
    "best_xgboost_model = random_search.best_estimator_\n",
    "xgboost_accuracy = metrics.accuracy_score(best_xgboost_model.predict(xtest_tfidf),testy)\n",
    "xgboost_accuracy"
   ]
  },
  {
   "cell_type": "code",
   "execution_count": 30,
   "id": "b1c99228",
   "metadata": {},
   "outputs": [
    {
     "data": {
      "text/plain": [
       "0.8103568929321203"
      ]
     },
     "execution_count": 30,
     "metadata": {},
     "output_type": "execute_result"
    }
   ],
   "source": [
    "rf_model = RandomForestClassifier(n_estimators=100, random_state=42)\n",
    "rf_model.fit(xtrain_tfidf,trainy)\n",
    "rf_accuracy = metrics.accuracy_score(rf_model.predict(xtest_tfidf),testy)\n",
    "rf_accuracy"
   ]
  },
  {
   "cell_type": "code",
   "execution_count": 36,
   "id": "4fb12bc7",
   "metadata": {},
   "outputs": [
    {
     "name": "stdout",
     "output_type": "stream",
     "text": [
      "<scipy.stats._distn_infrastructure.rv_discrete_frozen object at 0x0000026FC4E835D0>\n"
     ]
    },
    {
     "data": {
      "text/plain": [
       "0.6969909027291813"
      ]
     },
     "execution_count": 36,
     "metadata": {},
     "output_type": "execute_result"
    }
   ],
   "source": [
    "param_dist = {\n",
    "    'n_estimators': randint(50, 200),\n",
    "    'max_depth': randint(3, 10),\n",
    "    'min_samples_split': randint(2, 10),\n",
    "    'min_samples_leaf': randint(1, 5),\n",
    "    'max_features': ['auto', 'sqrt', 'log2'],\n",
    "    'bootstrap': [True, False]\n",
    "}\n",
    "print(param_dist['n_estimators'])\n",
    "rf_model = RandomForestClassifier()\n",
    "random_search = RandomizedSearchCV(rf_model, param_distributions=param_dist, n_iter=10, cv=5, scoring='accuracy', random_state=42, n_jobs=-1)\n",
    "random_search.fit(xtrain_tfidf,trainy)\n",
    "best_rf_model = random_search.best_estimator_\n",
    "rf_accuracy = metrics.accuracy_score(best_rf_model.predict(xtest_tfidf),testy)\n",
    "rf_accuracy"
   ]
  },
  {
   "cell_type": "code",
   "execution_count": 44,
   "id": "1d94410f",
   "metadata": {},
   "outputs": [
    {
     "data": {
      "text/plain": [
       "{'best_logistic_model': [0.8656403079076277,\n",
       "  LogisticRegression(C=6.4405075539937195, max_iter=300, solver='saga')],\n",
       " 'best_naive_model': [0.8376487053883834,\n",
       "  MultinomialNB(alpha=0.21616722433639893)],\n",
       " 'best_svm_model': [0.8698390482855144,\n",
       "  SVC(C=1.5639878836228103, gamma=1.5186688298037891, kernel='linear')],\n",
       " 'best_xgboost_model': [0.8509447165850245,\n",
       "  XGBClassifier(base_score=None, booster=None, callbacks=None,\n",
       "                colsample_bylevel=None, colsample_bynode=None,\n",
       "                colsample_bytree=0.9828160165372797, device=None,\n",
       "                early_stopping_rounds=None, enable_categorical=False,\n",
       "                eval_metric=None, feature_types=None, gamma=None,\n",
       "                grow_policy=None, importance_type=None,\n",
       "                interaction_constraints=None, learning_rate=0.17167946962329225,\n",
       "                max_bin=None, max_cat_threshold=None, max_cat_to_onehot=None,\n",
       "                max_delta_step=None, max_depth=3, max_leaves=None,\n",
       "                min_child_weight=None, missing=nan, monotone_constraints=None,\n",
       "                multi_strategy=None, n_estimators=139, n_jobs=None,\n",
       "                num_parallel_tree=None, objective='multi:softprob', ...)],\n",
       " 'best_rf_model': [0.6969909027291813,\n",
       "  RandomForestClassifier(max_depth=6, min_samples_leaf=2, min_samples_split=6,\n",
       "                         n_estimators=138)]}"
      ]
     },
     "execution_count": 44,
     "metadata": {},
     "output_type": "execute_result"
    }
   ],
   "source": [
    "best_accuracy = {}\n",
    "temp = [best_logistic_model,best_naive_model,best_svm_model,best_xgboost_model,best_rf_model]\n",
    "best_accuracy[\"best_logistic_model\"]=[logistic_accuracy,best_logistic_model]\n",
    "best_accuracy[\"best_naive_model\"]=[naive_accuracy,best_naive_model]\n",
    "best_accuracy[\"best_svm_model\"]=[svm_accuracy,best_svm_model]\n",
    "best_accuracy[\"best_xgboost_model\"]=[xgboost_accuracy,best_xgboost_model]\n",
    "best_accuracy[\"best_rf_model\"]=[rf_accuracy,best_rf_model]\n",
    "best_accuracy"
   ]
  },
  {
   "cell_type": "code",
   "execution_count": 47,
   "id": "71752434",
   "metadata": {},
   "outputs": [
    {
     "data": {
      "text/plain": [
       "'best_svm_model'"
      ]
     },
     "execution_count": 47,
     "metadata": {},
     "output_type": "execute_result"
    }
   ],
   "source": [
    "best_model_name = max(best_accuracy, key=lambda key: best_accuracy[key][0])\n",
    "best_model_name"
   ]
  },
  {
   "cell_type": "code",
   "execution_count": 49,
   "id": "8bfd2131",
   "metadata": {},
   "outputs": [],
   "source": [
    "best_model_accuracy = best_accuracy[best_model_name][0]\n",
    "best_model = best_accuracy[best_model_name][1]"
   ]
  },
  {
   "cell_type": "code",
   "execution_count": 50,
   "id": "4971f791",
   "metadata": {},
   "outputs": [
    {
     "data": {
      "text/html": [
       "<style>#sk-container-id-1 {color: black;}#sk-container-id-1 pre{padding: 0;}#sk-container-id-1 div.sk-toggleable {background-color: white;}#sk-container-id-1 label.sk-toggleable__label {cursor: pointer;display: block;width: 100%;margin-bottom: 0;padding: 0.3em;box-sizing: border-box;text-align: center;}#sk-container-id-1 label.sk-toggleable__label-arrow:before {content: \"▸\";float: left;margin-right: 0.25em;color: #696969;}#sk-container-id-1 label.sk-toggleable__label-arrow:hover:before {color: black;}#sk-container-id-1 div.sk-estimator:hover label.sk-toggleable__label-arrow:before {color: black;}#sk-container-id-1 div.sk-toggleable__content {max-height: 0;max-width: 0;overflow: hidden;text-align: left;background-color: #f0f8ff;}#sk-container-id-1 div.sk-toggleable__content pre {margin: 0.2em;color: black;border-radius: 0.25em;background-color: #f0f8ff;}#sk-container-id-1 input.sk-toggleable__control:checked~div.sk-toggleable__content {max-height: 200px;max-width: 100%;overflow: auto;}#sk-container-id-1 input.sk-toggleable__control:checked~label.sk-toggleable__label-arrow:before {content: \"▾\";}#sk-container-id-1 div.sk-estimator input.sk-toggleable__control:checked~label.sk-toggleable__label {background-color: #d4ebff;}#sk-container-id-1 div.sk-label input.sk-toggleable__control:checked~label.sk-toggleable__label {background-color: #d4ebff;}#sk-container-id-1 input.sk-hidden--visually {border: 0;clip: rect(1px 1px 1px 1px);clip: rect(1px, 1px, 1px, 1px);height: 1px;margin: -1px;overflow: hidden;padding: 0;position: absolute;width: 1px;}#sk-container-id-1 div.sk-estimator {font-family: monospace;background-color: #f0f8ff;border: 1px dotted black;border-radius: 0.25em;box-sizing: border-box;margin-bottom: 0.5em;}#sk-container-id-1 div.sk-estimator:hover {background-color: #d4ebff;}#sk-container-id-1 div.sk-parallel-item::after {content: \"\";width: 100%;border-bottom: 1px solid gray;flex-grow: 1;}#sk-container-id-1 div.sk-label:hover label.sk-toggleable__label {background-color: #d4ebff;}#sk-container-id-1 div.sk-serial::before {content: \"\";position: absolute;border-left: 1px solid gray;box-sizing: border-box;top: 0;bottom: 0;left: 50%;z-index: 0;}#sk-container-id-1 div.sk-serial {display: flex;flex-direction: column;align-items: center;background-color: white;padding-right: 0.2em;padding-left: 0.2em;position: relative;}#sk-container-id-1 div.sk-item {position: relative;z-index: 1;}#sk-container-id-1 div.sk-parallel {display: flex;align-items: stretch;justify-content: center;background-color: white;position: relative;}#sk-container-id-1 div.sk-item::before, #sk-container-id-1 div.sk-parallel-item::before {content: \"\";position: absolute;border-left: 1px solid gray;box-sizing: border-box;top: 0;bottom: 0;left: 50%;z-index: -1;}#sk-container-id-1 div.sk-parallel-item {display: flex;flex-direction: column;z-index: 1;position: relative;background-color: white;}#sk-container-id-1 div.sk-parallel-item:first-child::after {align-self: flex-end;width: 50%;}#sk-container-id-1 div.sk-parallel-item:last-child::after {align-self: flex-start;width: 50%;}#sk-container-id-1 div.sk-parallel-item:only-child::after {width: 0;}#sk-container-id-1 div.sk-dashed-wrapped {border: 1px dashed gray;margin: 0 0.4em 0.5em 0.4em;box-sizing: border-box;padding-bottom: 0.4em;background-color: white;}#sk-container-id-1 div.sk-label label {font-family: monospace;font-weight: bold;display: inline-block;line-height: 1.2em;}#sk-container-id-1 div.sk-label-container {text-align: center;}#sk-container-id-1 div.sk-container {/* jupyter's `normalize.less` sets `[hidden] { display: none; }` but bootstrap.min.css set `[hidden] { display: none !important; }` so we also need the `!important` here to be able to override the default hidden behavior on the sphinx rendered scikit-learn.org. See: https://github.com/scikit-learn/scikit-learn/issues/21755 */display: inline-block !important;position: relative;}#sk-container-id-1 div.sk-text-repr-fallback {display: none;}</style><div id=\"sk-container-id-1\" class=\"sk-top-container\"><div class=\"sk-text-repr-fallback\"><pre>SVC(C=1.5639878836228103, gamma=1.5186688298037891, kernel=&#x27;linear&#x27;)</pre><b>In a Jupyter environment, please rerun this cell to show the HTML representation or trust the notebook. <br />On GitHub, the HTML representation is unable to render, please try loading this page with nbviewer.org.</b></div><div class=\"sk-container\" hidden><div class=\"sk-item\"><div class=\"sk-estimator sk-toggleable\"><input class=\"sk-toggleable__control sk-hidden--visually\" id=\"sk-estimator-id-1\" type=\"checkbox\" checked><label for=\"sk-estimator-id-1\" class=\"sk-toggleable__label sk-toggleable__label-arrow\">SVC</label><div class=\"sk-toggleable__content\"><pre>SVC(C=1.5639878836228103, gamma=1.5186688298037891, kernel=&#x27;linear&#x27;)</pre></div></div></div></div></div>"
      ],
      "text/plain": [
       "SVC(C=1.5639878836228103, gamma=1.5186688298037891, kernel='linear')"
      ]
     },
     "execution_count": 50,
     "metadata": {},
     "output_type": "execute_result"
    }
   ],
   "source": [
    "best_model.save"
   ]
  },
  {
   "cell_type": "code",
   "execution_count": 58,
   "id": "3a5f3e99",
   "metadata": {},
   "outputs": [
    {
     "data": {
      "text/plain": [
       "['../../models/best_model.joblib']"
      ]
     },
     "execution_count": 58,
     "metadata": {},
     "output_type": "execute_result"
    }
   ],
   "source": [
    "joblib.dump(best_model, '../../models/best_model.joblib')"
   ]
  },
  {
   "cell_type": "code",
   "execution_count": null,
   "id": "20b2b453",
   "metadata": {},
   "outputs": [],
   "source": []
  }
 ],
 "metadata": {
  "kernelspec": {
   "display_name": "final_env",
   "language": "python",
   "name": "final_env"
  },
  "language_info": {
   "codemirror_mode": {
    "name": "ipython",
    "version": 3
   },
   "file_extension": ".py",
   "mimetype": "text/x-python",
   "name": "python",
   "nbconvert_exporter": "python",
   "pygments_lexer": "ipython3",
   "version": "3.11.6"
  }
 },
 "nbformat": 4,
 "nbformat_minor": 5
}
