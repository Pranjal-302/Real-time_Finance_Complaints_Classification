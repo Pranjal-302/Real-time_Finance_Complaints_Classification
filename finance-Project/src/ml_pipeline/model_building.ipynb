{
 "cells": [
  {
   "cell_type": "code",
   "execution_count": 51,
   "id": "6fd19930",
   "metadata": {},
   "outputs": [],
   "source": [
    "import json\n",
    "import joblib\n",
    "import pandas as pd\n",
    "from sklearn.model_selection import train_test_split, RandomizedSearchCV\n",
    "from sklearn import model_selection, preprocessing, linear_model, metrics, svm\n",
    "from sklearn.feature_extraction.text import TfidfVectorizer\n",
    "from sklearn.ensemble import RandomForestClassifier\n",
    "from sklearn.naive_bayes import MultinomialNB\n",
    "from sklearn.svm import SVC\n",
    "from xgboost import XGBClassifier\n",
    "from scipy.stats import loguniform,uniform,randint\n",
    "import warnings\n",
    "warnings.filterwarnings(\"ignore\")\n",
    "\n",
    "\n",
    "ml_pipeline_config = open('../../config/ml_pipeline.json')\n",
    "ml_pipeline_config = json.load(ml_pipeline_config)"
   ]
  },
  {
   "cell_type": "code",
   "execution_count": 72,
   "id": "8b97f890",
   "metadata": {},
   "outputs": [],
   "source": [
    "data = pd.read_csv(ml_pipeline_config[\"processed_data_path\"])\n",
    "data = data[['product','consumer_complaint_narrative']]\n",
    "data = data[data['consumer_complaint_narrative'].notnull()]\n",
    "x = data['consumer_complaint_narrative']\n",
    "y = data['product']\n",
    "trainx,testx,trainy,testy = train_test_split(x,y,train_size=ml_pipeline_config[\"train_size\"],random_state=30)"
   ]
  },
  {
   "cell_type": "code",
   "execution_count": 76,
   "id": "e6b5f355",
   "metadata": {},
   "outputs": [
    {
     "data": {
      "text/plain": [
       "['../../models/vectorizer.joblib']"
      ]
     },
     "execution_count": 76,
     "metadata": {},
     "output_type": "execute_result"
    }
   ],
   "source": [
    "encoder = preprocessing.LabelEncoder()\n",
    "trainy = encoder.fit_transform(trainy)\n",
    "joblib.dump(encoder, '../../models/label_encoder.joblib')\n",
    "testy = encoder.transform(testy)\n",
    "\n",
    "tfidf_vect = TfidfVectorizer(analyzer='word',token_pattern=r'\\w{1,}',max_features=5000)\n",
    "tfidf_vect.fit(data['consumer_complaint_narrative'])\n",
    "xtrain_tfidf = tfidf_vect.transform(trainx) \n",
    "xtest_tfidf = tfidf_vect.transform(testx)\n",
    "joblib.dump(tfidf_vect, '../../models/vectorizer.joblib')"
   ]
  },
  {
   "cell_type": "code",
   "execution_count": 77,
   "id": "040eb06f",
   "metadata": {},
   "outputs": [
    {
     "data": {
      "text/plain": [
       "array([2, 0, 2, ..., 2, 2, 9])"
      ]
     },
     "execution_count": 77,
     "metadata": {},
     "output_type": "execute_result"
    }
   ],
   "source": [
    "trainy"
   ]
  },
  {
   "cell_type": "code",
   "execution_count": 78,
   "id": "37bc5e57",
   "metadata": {},
   "outputs": [
    {
     "data": {
      "text/plain": [
       "array([0, 6, 2, ..., 2, 2, 3])"
      ]
     },
     "execution_count": 78,
     "metadata": {},
     "output_type": "execute_result"
    }
   ],
   "source": [
    "testy"
   ]
  },
  {
   "cell_type": "code",
   "execution_count": 79,
   "id": "6d123585",
   "metadata": {},
   "outputs": [
    {
     "data": {
      "text/plain": [
       "'Checking or savings account'"
      ]
     },
     "execution_count": 79,
     "metadata": {},
     "output_type": "execute_result"
    }
   ],
   "source": [
    "encoder.inverse_transform([0])[0]"
   ]
  },
  {
   "cell_type": "code",
   "execution_count": 71,
   "id": "b73e13ae",
   "metadata": {},
   "outputs": [
    {
     "data": {
      "text/plain": [
       "4912     This is my OTHER request that I have been a vi...\n",
       "13515    I had asked them to waive the over draft fee c...\n",
       "5105     XX/XX/2023, I sent a letter to the courthouse ...\n",
       "15875    My name is XXXX XXXX this complaint is not mad...\n",
       "1168     XXXX XXXX XXXX XXXX XXXX XXXX XXXX XXXX, PA XX...\n",
       "                               ...                        \n",
       "1250     A few years ago someone used my Paypal account...\n",
       "9883     Did not authorize inquiries listed below pleas...\n",
       "18785    Transunion is in violation, late payments are ...\n",
       "11099    In accordance with the Fair Credit Reporting a...\n",
       "14725    After over 10 years of having this loan I have...\n",
       "Name: consumer_complaint_narrative, Length: 5716, dtype: object"
      ]
     },
     "execution_count": 71,
     "metadata": {},
     "output_type": "execute_result"
    }
   ],
   "source": [
    "train"
   ]
  },
  {
   "cell_type": "code",
   "execution_count": 4,
   "id": "4108904f",
   "metadata": {},
   "outputs": [
    {
     "data": {
      "text/plain": [
       "0.85444366689993"
      ]
     },
     "execution_count": 4,
     "metadata": {},
     "output_type": "execute_result"
    }
   ],
   "source": [
    "logistic_model = linear_model.LogisticRegression()\n",
    "logistic_model.fit(xtrain_tfidf,trainy)\n",
    "logistic_accuracy = metrics.accuracy_score(logistic_model.predict(xtest_tfidf),testy)\n",
    "logistic_accuracy"
   ]
  },
  {
   "cell_type": "code",
   "execution_count": 19,
   "id": "8a730ed9",
   "metadata": {},
   "outputs": [
    {
     "data": {
      "text/plain": [
       "0.8656403079076277"
      ]
     },
     "execution_count": 19,
     "metadata": {},
     "output_type": "execute_result"
    }
   ],
   "source": [
    "## with RandomSearchCV\n",
    "param_dist = {\n",
    "    'penalty': ['l1', 'l2', 'elasticnet', 'none'],\n",
    "    'C': loguniform(1e-4, 1e4),\n",
    "    'solver': ['newton-cg', 'lbfgs', 'liblinear', 'sag', 'saga'],\n",
    "    'max_iter': [100, 200, 300, 400, 500]\n",
    "}\n",
    "logistic_model = linear_model.LogisticRegression()\n",
    "random_search = RandomizedSearchCV(logistic_model, param_distributions=param_dist, n_iter=10, cv=5, scoring='accuracy', random_state=42, n_jobs=-1)\n",
    "random_search.fit(xtrain_tfidf,trainy)\n",
    "best_logistic_model = random_search.best_estimator_\n",
    "logistic_accuracy = metrics.accuracy_score(best_logistic_model.predict(xtest_tfidf),testy)\n",
    "logistic_accuracy"
   ]
  },
  {
   "cell_type": "code",
   "execution_count": 5,
   "id": "414afb1f",
   "metadata": {},
   "outputs": [
    {
     "data": {
      "text/plain": [
       "0.7564730580825753"
      ]
     },
     "execution_count": 5,
     "metadata": {},
     "output_type": "execute_result"
    }
   ],
   "source": [
    "naive_model = MultinomialNB()\n",
    "naive_model.fit(xtrain_tfidf,trainy)\n",
    "naive_accuracy = metrics.accuracy_score(naive_model.predict(xtest_tfidf),testy)\n",
    "naive_accuracy"
   ]
  },
  {
   "cell_type": "code",
   "execution_count": 22,
   "id": "94b856ea",
   "metadata": {},
   "outputs": [
    {
     "data": {
      "text/plain": [
       "0.8376487053883834"
      ]
     },
     "execution_count": 22,
     "metadata": {},
     "output_type": "execute_result"
    }
   ],
   "source": [
    "param_dist = {\n",
    "    'alpha': uniform(0.1, 2.0),  # Smoothing parameter (Laplace smoothing)\n",
    "}\n",
    "naive_model = MultinomialNB()\n",
    "random_search = RandomizedSearchCV(naive_model, param_distributions=param_dist, n_iter=10, cv=5, scoring='accuracy', random_state=42, n_jobs=-1)\n",
    "random_search.fit(xtrain_tfidf,trainy)\n",
    "best_naive_model = random_search.best_estimator_\n",
    "naive_accuracy = metrics.accuracy_score(best_naive_model.predict(xtest_tfidf),testy)\n",
    "naive_accuracy"
   ]
  },
  {
   "cell_type": "code",
   "execution_count": 115,
   "id": "9be5f1dc",
   "metadata": {},
   "outputs": [
    {
     "data": {
      "text/plain": [
       "{'C': 1.5639878836228103,\n",
       " 'gamma': 1.6827500337940122,\n",
       " 'kernel': 'linear',\n",
       " 'probability': True}"
      ]
     },
     "execution_count": 115,
     "metadata": {},
     "output_type": "execute_result"
    }
   ],
   "source": [
    "random_search.best_params_"
   ]
  },
  {
   "cell_type": "code",
   "execution_count": 23,
   "id": "43837425",
   "metadata": {},
   "outputs": [
    {
     "data": {
      "text/plain": [
       "0.867739678096571"
      ]
     },
     "execution_count": 23,
     "metadata": {},
     "output_type": "execute_result"
    }
   ],
   "source": [
    "svm_model = SVC(kernel='linear', C=1.0, random_state=42)\n",
    "svm_model.fit(xtrain_tfidf,trainy)\n",
    "svm_accuracy = metrics.accuracy_score(svm_model.predict(xtest_tfidf),testy)\n",
    "svm_accuracy"
   ]
  },
  {
   "cell_type": "code",
   "execution_count": 91,
   "id": "278af1a7",
   "metadata": {},
   "outputs": [
    {
     "data": {
      "text/plain": [
       "0.8698390482855144"
      ]
     },
     "execution_count": 91,
     "metadata": {},
     "output_type": "execute_result"
    }
   ],
   "source": [
    "param_dist = {\n",
    "    'C': uniform(0.1, 2.0),  # Regularization parameter\n",
    "    'kernel': ['linear', 'poly', 'rbf', 'sigmoid'],  # Choice of kernel\n",
    "    'gamma': ['scale', 'auto'] + list(uniform(0.1, 2.0).rvs(5)),  # For 'rbf', 'poly', 'sigmoid'\n",
    "    'probability':[True]\n",
    "}\n",
    "svm_model = SVC()\n",
    "random_search = RandomizedSearchCV(svm_model, param_distributions=param_dist, n_iter=10, cv=5, scoring='accuracy', random_state=42, n_jobs=-1)\n",
    "random_search.fit(xtrain_tfidf,trainy)\n",
    "best_svm_model = random_search.best_estimator_\n",
    "svm_accuracy = metrics.accuracy_score(best_svm_model.predict(xtest_tfidf),testy)\n",
    "svm_accuracy"
   ]
  },
  {
   "cell_type": "code",
   "execution_count": 8,
   "id": "34b44dab",
   "metadata": {},
   "outputs": [
    {
     "data": {
      "text/plain": [
       "0.8390482855143457"
      ]
     },
     "execution_count": 8,
     "metadata": {},
     "output_type": "execute_result"
    }
   ],
   "source": [
    "xgboost_model = XGBClassifier(n_estimators=100, learning_rate=0.1, random_state=42)\n",
    "xgboost_model.fit(xtrain_tfidf,trainy)\n",
    "xgboost_accuracy = metrics.accuracy_score(xgboost_model.predict(xtest_tfidf),testy)\n",
    "xgboost_accuracy"
   ]
  },
  {
   "cell_type": "code",
   "execution_count": 27,
   "id": "53885470",
   "metadata": {},
   "outputs": [
    {
     "data": {
      "text/plain": [
       "0.8509447165850245"
      ]
     },
     "execution_count": 27,
     "metadata": {},
     "output_type": "execute_result"
    }
   ],
   "source": [
    "param_dist = {\n",
    "    'learning_rate': uniform(0.01, 0.2),\n",
    "    'n_estimators': randint(50, 200),\n",
    "    'max_depth': randint(3, 10),\n",
    "    'subsample': uniform(0.5, 0.5),\n",
    "    'colsample_bytree': uniform(0.5, 0.5),\n",
    "}\n",
    "xgboost_model = XGBClassifier()\n",
    "random_search = RandomizedSearchCV(xgboost_model, param_distributions=param_dist, n_iter=10, cv=5, scoring='accuracy', random_state=42, n_jobs=-1)\n",
    "random_search.fit(xtrain_tfidf,trainy)\n",
    "best_xgboost_model = random_search.best_estimator_\n",
    "xgboost_accuracy = metrics.accuracy_score(best_xgboost_model.predict(xtest_tfidf),testy)\n",
    "xgboost_accuracy"
   ]
  },
  {
   "cell_type": "code",
   "execution_count": 30,
   "id": "d81bc12f",
   "metadata": {},
   "outputs": [
    {
     "data": {
      "text/plain": [
       "0.8103568929321203"
      ]
     },
     "execution_count": 30,
     "metadata": {},
     "output_type": "execute_result"
    }
   ],
   "source": [
    "rf_model = RandomForestClassifier(n_estimators=100, random_state=42)\n",
    "rf_model.fit(xtrain_tfidf,trainy)\n",
    "rf_accuracy = metrics.accuracy_score(rf_model.predict(xtest_tfidf),testy)\n",
    "rf_accuracy"
   ]
  },
  {
   "cell_type": "code",
   "execution_count": 36,
   "id": "7be1c0c4",
   "metadata": {},
   "outputs": [
    {
     "name": "stdout",
     "output_type": "stream",
     "text": [
      "<scipy.stats._distn_infrastructure.rv_discrete_frozen object at 0x0000026FC4E835D0>\n"
     ]
    },
    {
     "data": {
      "text/plain": [
       "0.6969909027291813"
      ]
     },
     "execution_count": 36,
     "metadata": {},
     "output_type": "execute_result"
    }
   ],
   "source": [
    "param_dist = {\n",
    "    'n_estimators': randint(50, 200),\n",
    "    'max_depth': randint(3, 10),\n",
    "    'min_samples_split': randint(2, 10),\n",
    "    'min_samples_leaf': randint(1, 5),\n",
    "    'max_features': ['auto', 'sqrt', 'log2'],\n",
    "    'bootstrap': [True, False]\n",
    "}\n",
    "print(param_dist['n_estimators'])\n",
    "rf_model = RandomForestClassifier()\n",
    "random_search = RandomizedSearchCV(rf_model, param_distributions=param_dist, n_iter=10, cv=5, scoring='accuracy', random_state=42, n_jobs=-1)\n",
    "random_search.fit(xtrain_tfidf,trainy)\n",
    "best_rf_model = random_search.best_estimator_\n",
    "rf_accuracy = metrics.accuracy_score(best_rf_model.predict(xtest_tfidf),testy)\n",
    "rf_accuracy"
   ]
  },
  {
   "cell_type": "code",
   "execution_count": 92,
   "id": "ba36bf7f",
   "metadata": {},
   "outputs": [
    {
     "data": {
      "text/plain": [
       "{'best_logistic_model': [0.8656403079076277,\n",
       "  LogisticRegression(C=6.4405075539937195, max_iter=300, solver='saga')],\n",
       " 'best_naive_model': [0.8376487053883834,\n",
       "  MultinomialNB(alpha=0.21616722433639893)],\n",
       " 'best_svm_model': [0.8698390482855144,\n",
       "  SVC(C=1.5639878836228103, gamma=1.6827500337940122, kernel='linear',\n",
       "      probability=True)],\n",
       " 'best_xgboost_model': [0.8509447165850245,\n",
       "  XGBClassifier(base_score=None, booster=None, callbacks=None,\n",
       "                colsample_bylevel=None, colsample_bynode=None,\n",
       "                colsample_bytree=0.9828160165372797, device=None,\n",
       "                early_stopping_rounds=None, enable_categorical=False,\n",
       "                eval_metric=None, feature_types=None, gamma=None,\n",
       "                grow_policy=None, importance_type=None,\n",
       "                interaction_constraints=None, learning_rate=0.17167946962329225,\n",
       "                max_bin=None, max_cat_threshold=None, max_cat_to_onehot=None,\n",
       "                max_delta_step=None, max_depth=3, max_leaves=None,\n",
       "                min_child_weight=None, missing=nan, monotone_constraints=None,\n",
       "                multi_strategy=None, n_estimators=139, n_jobs=None,\n",
       "                num_parallel_tree=None, objective='multi:softprob', ...)],\n",
       " 'best_rf_model': [0.6969909027291813,\n",
       "  RandomForestClassifier(max_depth=6, min_samples_leaf=2, min_samples_split=6,\n",
       "                         n_estimators=138)]}"
      ]
     },
     "execution_count": 92,
     "metadata": {},
     "output_type": "execute_result"
    }
   ],
   "source": [
    "best_accuracy = {}\n",
    "temp = [best_logistic_model,best_naive_model,best_svm_model,best_xgboost_model,best_rf_model]\n",
    "best_accuracy[\"best_logistic_model\"]=[logistic_accuracy,best_logistic_model]\n",
    "best_accuracy[\"best_naive_model\"]=[naive_accuracy,best_naive_model]\n",
    "best_accuracy[\"best_svm_model\"]=[svm_accuracy,best_svm_model]\n",
    "best_accuracy[\"best_xgboost_model\"]=[xgboost_accuracy,best_xgboost_model]\n",
    "best_accuracy[\"best_rf_model\"]=[rf_accuracy,best_rf_model]\n",
    "best_accuracy"
   ]
  },
  {
   "cell_type": "code",
   "execution_count": 93,
   "id": "94e3b01c",
   "metadata": {},
   "outputs": [
    {
     "data": {
      "text/plain": [
       "'best_svm_model'"
      ]
     },
     "execution_count": 93,
     "metadata": {},
     "output_type": "execute_result"
    }
   ],
   "source": [
    "best_model_name = max(best_accuracy, key=lambda key: best_accuracy[key][0])\n",
    "best_model_name"
   ]
  },
  {
   "cell_type": "code",
   "execution_count": 94,
   "id": "ddb3ebc0",
   "metadata": {},
   "outputs": [],
   "source": [
    "best_model_accuracy = best_accuracy[best_model_name][0]\n",
    "best_model = best_accuracy[best_model_name][1]"
   ]
  },
  {
   "cell_type": "code",
   "execution_count": 96,
   "id": "41232c1c",
   "metadata": {},
   "outputs": [
    {
     "data": {
      "text/plain": [
       "['../../models/best_model.joblib']"
      ]
     },
     "execution_count": 96,
     "metadata": {},
     "output_type": "execute_result"
    }
   ],
   "source": [
    "joblib.dump(best_model, '../../models/best_model.joblib')"
   ]
  },
  {
   "cell_type": "code",
   "execution_count": 97,
   "id": "d18a138f",
   "metadata": {},
   "outputs": [],
   "source": [
    "temp = [best_logistic_model,best_naive_model,best_svm_model,best_xgboost_model,best_rf_model]"
   ]
  },
  {
   "cell_type": "code",
   "execution_count": 100,
   "id": "dec8e974",
   "metadata": {},
   "outputs": [
    {
     "data": {
      "text/plain": [
       "array([0.90923325, 0.00599117, 0.01552748, 0.00466943, 0.00142807,\n",
       "       0.05075722, 0.00493174, 0.00122459, 0.00143169, 0.00111141,\n",
       "       0.00369397])"
      ]
     },
     "execution_count": 100,
     "metadata": {},
     "output_type": "execute_result"
    }
   ],
   "source": [
    "best_logistic_model.predict_proba(xtest_tfidf[0])[0]"
   ]
  },
  {
   "cell_type": "code",
   "execution_count": 105,
   "id": "2b7b0c11",
   "metadata": {
    "collapsed": true
   },
   "outputs": [
    {
     "ename": "ValueError",
     "evalue": "y contains previously unseen labels: 'I received my credit report and noticed Elevate Recoveries , LLC placed an open collection on my report in the amount {$2200.00}.  First, I do not have a legal contract with this company. Secondly, Elevate Recoveries is in violation of consumer law code 15 USC 1681a Section 3. Per 15 USC 1681a Section 3 Restriction on sharing of medical information.Except for information or any communication of information disclosed as provided in section 1681b ( g ) ( 3 ) of this title, the exclusions in paragraph ( 2 ) shall not apply with respect to information disclosed to any person related by common ownership or affiliated by corporate control, if the information is ( A ) medical information ; ( B ) an individualized list or description based on the payment transactions of the consumer for medical products or services ; or ( C ) an aggregate list of identified consumers based on payment transactions for medical products or services.  This company has also violated H.R.2537 - Consumer Protection for Medical Debt Collecti'",
     "output_type": "error",
     "traceback": [
      "\u001b[1;31m---------------------------------------------------------------------------\u001b[0m",
      "\u001b[1;31mKeyError\u001b[0m                                  Traceback (most recent call last)",
      "File \u001b[1;32m~\\Desktop\\finance-complaint\\New_repo\\Finance_Complaint_Classification\\final_env\\Lib\\site-packages\\sklearn\\utils\\_encode.py:225\u001b[0m, in \u001b[0;36m_encode\u001b[1;34m(values, uniques, check_unknown)\u001b[0m\n\u001b[0;32m    224\u001b[0m \u001b[38;5;28;01mtry\u001b[39;00m:\n\u001b[1;32m--> 225\u001b[0m     \u001b[38;5;28;01mreturn\u001b[39;00m \u001b[43m_map_to_integer\u001b[49m\u001b[43m(\u001b[49m\u001b[43mvalues\u001b[49m\u001b[43m,\u001b[49m\u001b[43m \u001b[49m\u001b[43muniques\u001b[49m\u001b[43m)\u001b[49m\n\u001b[0;32m    226\u001b[0m \u001b[38;5;28;01mexcept\u001b[39;00m \u001b[38;5;167;01mKeyError\u001b[39;00m \u001b[38;5;28;01mas\u001b[39;00m e:\n",
      "File \u001b[1;32m~\\Desktop\\finance-complaint\\New_repo\\Finance_Complaint_Classification\\final_env\\Lib\\site-packages\\sklearn\\utils\\_encode.py:165\u001b[0m, in \u001b[0;36m_map_to_integer\u001b[1;34m(values, uniques)\u001b[0m\n\u001b[0;32m    164\u001b[0m table \u001b[38;5;241m=\u001b[39m _nandict({val: i \u001b[38;5;28;01mfor\u001b[39;00m i, val \u001b[38;5;129;01min\u001b[39;00m \u001b[38;5;28menumerate\u001b[39m(uniques)})\n\u001b[1;32m--> 165\u001b[0m \u001b[38;5;28;01mreturn\u001b[39;00m np\u001b[38;5;241m.\u001b[39marray(\u001b[43m[\u001b[49m\u001b[43mtable\u001b[49m\u001b[43m[\u001b[49m\u001b[43mv\u001b[49m\u001b[43m]\u001b[49m\u001b[43m \u001b[49m\u001b[38;5;28;43;01mfor\u001b[39;49;00m\u001b[43m \u001b[49m\u001b[43mv\u001b[49m\u001b[43m \u001b[49m\u001b[38;5;129;43;01min\u001b[39;49;00m\u001b[43m \u001b[49m\u001b[43mvalues\u001b[49m\u001b[43m]\u001b[49m)\n",
      "File \u001b[1;32m~\\Desktop\\finance-complaint\\New_repo\\Finance_Complaint_Classification\\final_env\\Lib\\site-packages\\sklearn\\utils\\_encode.py:165\u001b[0m, in \u001b[0;36m<listcomp>\u001b[1;34m(.0)\u001b[0m\n\u001b[0;32m    164\u001b[0m table \u001b[38;5;241m=\u001b[39m _nandict({val: i \u001b[38;5;28;01mfor\u001b[39;00m i, val \u001b[38;5;129;01min\u001b[39;00m \u001b[38;5;28menumerate\u001b[39m(uniques)})\n\u001b[1;32m--> 165\u001b[0m \u001b[38;5;28;01mreturn\u001b[39;00m np\u001b[38;5;241m.\u001b[39marray([\u001b[43mtable\u001b[49m\u001b[43m[\u001b[49m\u001b[43mv\u001b[49m\u001b[43m]\u001b[49m \u001b[38;5;28;01mfor\u001b[39;00m v \u001b[38;5;129;01min\u001b[39;00m values])\n",
      "File \u001b[1;32m~\\Desktop\\finance-complaint\\New_repo\\Finance_Complaint_Classification\\final_env\\Lib\\site-packages\\sklearn\\utils\\_encode.py:159\u001b[0m, in \u001b[0;36m_nandict.__missing__\u001b[1;34m(self, key)\u001b[0m\n\u001b[0;32m    158\u001b[0m     \u001b[38;5;28;01mreturn\u001b[39;00m \u001b[38;5;28mself\u001b[39m\u001b[38;5;241m.\u001b[39mnan_value\n\u001b[1;32m--> 159\u001b[0m \u001b[38;5;28;01mraise\u001b[39;00m \u001b[38;5;167;01mKeyError\u001b[39;00m(key)\n",
      "\u001b[1;31mKeyError\u001b[0m: 'I received my credit report and noticed Elevate Recoveries , LLC placed an open collection on my report in the amount {$2200.00}.  First, I do not have a legal contract with this company. Secondly, Elevate Recoveries is in violation of consumer law code 15 USC 1681a Section 3. Per 15 USC 1681a Section 3 Restriction on sharing of medical information.Except for information or any communication of information disclosed as provided in section 1681b ( g ) ( 3 ) of this title, the exclusions in paragraph ( 2 ) shall not apply with respect to information disclosed to any person related by common ownership or affiliated by corporate control, if the information is ( A ) medical information ; ( B ) an individualized list or description based on the payment transactions of the consumer for medical products or services ; or ( C ) an aggregate list of identified consumers based on payment transactions for medical products or services.  This company has also violated H.R.2537 - Consumer Protection for Medical Debt Collecti'",
      "\nDuring handling of the above exception, another exception occurred:\n",
      "\u001b[1;31mValueError\u001b[0m                                Traceback (most recent call last)",
      "Cell \u001b[1;32mIn[105], line 2\u001b[0m\n\u001b[0;32m      1\u001b[0m text\u001b[38;5;241m=\u001b[39m \u001b[38;5;124m\"\u001b[39m\u001b[38;5;124mI received my credit report and noticed Elevate Recoveries , LLC placed an open collection on my report in the amount \u001b[39m\u001b[38;5;124m{\u001b[39m\u001b[38;5;124m$2200.00}.  First, I do not have a legal contract with this company. Secondly, Elevate Recoveries is in violation of consumer law code 15 USC 1681a Section 3. Per 15 USC 1681a Section 3 Restriction on sharing of medical information.Except for information or any communication of information disclosed as provided in section 1681b ( g ) ( 3 ) of this title, the exclusions in paragraph ( 2 ) shall not apply with respect to information disclosed to any person related by common ownership or affiliated by corporate control, if the information is ( A ) medical information ; ( B ) an individualized list or description based on the payment transactions of the consumer for medical products or services ; or ( C ) an aggregate list of identified consumers based on payment transactions for medical products or services.  This company has also violated H.R.2537 - Consumer Protection for Medical Debt Collecti\u001b[39m\u001b[38;5;124m\"\u001b[39m\n\u001b[1;32m----> 2\u001b[0m text_vectorized \u001b[38;5;241m=\u001b[39m \u001b[43mencoder\u001b[49m\u001b[38;5;241;43m.\u001b[39;49m\u001b[43mtransform\u001b[49m\u001b[43m(\u001b[49m\u001b[43m[\u001b[49m\u001b[43mtext\u001b[49m\u001b[43m]\u001b[49m\u001b[43m)\u001b[49m\n\u001b[0;32m      3\u001b[0m \u001b[38;5;66;03m# Make predictions\u001b[39;00m\n\u001b[0;32m      4\u001b[0m prediction \u001b[38;5;241m=\u001b[39m best_model\u001b[38;5;241m.\u001b[39mpredict(text_vectorized)[\u001b[38;5;241m0\u001b[39m]\n",
      "File \u001b[1;32m~\\Desktop\\finance-complaint\\New_repo\\Finance_Complaint_Classification\\final_env\\Lib\\site-packages\\sklearn\\preprocessing\\_label.py:137\u001b[0m, in \u001b[0;36mLabelEncoder.transform\u001b[1;34m(self, y)\u001b[0m\n\u001b[0;32m    134\u001b[0m \u001b[38;5;28;01mif\u001b[39;00m _num_samples(y) \u001b[38;5;241m==\u001b[39m \u001b[38;5;241m0\u001b[39m:\n\u001b[0;32m    135\u001b[0m     \u001b[38;5;28;01mreturn\u001b[39;00m np\u001b[38;5;241m.\u001b[39marray([])\n\u001b[1;32m--> 137\u001b[0m \u001b[38;5;28;01mreturn\u001b[39;00m \u001b[43m_encode\u001b[49m\u001b[43m(\u001b[49m\u001b[43my\u001b[49m\u001b[43m,\u001b[49m\u001b[43m \u001b[49m\u001b[43muniques\u001b[49m\u001b[38;5;241;43m=\u001b[39;49m\u001b[38;5;28;43mself\u001b[39;49m\u001b[38;5;241;43m.\u001b[39;49m\u001b[43mclasses_\u001b[49m\u001b[43m)\u001b[49m\n",
      "File \u001b[1;32m~\\Desktop\\finance-complaint\\New_repo\\Finance_Complaint_Classification\\final_env\\Lib\\site-packages\\sklearn\\utils\\_encode.py:227\u001b[0m, in \u001b[0;36m_encode\u001b[1;34m(values, uniques, check_unknown)\u001b[0m\n\u001b[0;32m    225\u001b[0m         \u001b[38;5;28;01mreturn\u001b[39;00m _map_to_integer(values, uniques)\n\u001b[0;32m    226\u001b[0m     \u001b[38;5;28;01mexcept\u001b[39;00m \u001b[38;5;167;01mKeyError\u001b[39;00m \u001b[38;5;28;01mas\u001b[39;00m e:\n\u001b[1;32m--> 227\u001b[0m         \u001b[38;5;28;01mraise\u001b[39;00m \u001b[38;5;167;01mValueError\u001b[39;00m(\u001b[38;5;124mf\u001b[39m\u001b[38;5;124m\"\u001b[39m\u001b[38;5;124my contains previously unseen labels: \u001b[39m\u001b[38;5;132;01m{\u001b[39;00m\u001b[38;5;28mstr\u001b[39m(e)\u001b[38;5;132;01m}\u001b[39;00m\u001b[38;5;124m\"\u001b[39m)\n\u001b[0;32m    228\u001b[0m \u001b[38;5;28;01melse\u001b[39;00m:\n\u001b[0;32m    229\u001b[0m     \u001b[38;5;28;01mif\u001b[39;00m check_unknown:\n",
      "\u001b[1;31mValueError\u001b[0m: y contains previously unseen labels: 'I received my credit report and noticed Elevate Recoveries , LLC placed an open collection on my report in the amount {$2200.00}.  First, I do not have a legal contract with this company. Secondly, Elevate Recoveries is in violation of consumer law code 15 USC 1681a Section 3. Per 15 USC 1681a Section 3 Restriction on sharing of medical information.Except for information or any communication of information disclosed as provided in section 1681b ( g ) ( 3 ) of this title, the exclusions in paragraph ( 2 ) shall not apply with respect to information disclosed to any person related by common ownership or affiliated by corporate control, if the information is ( A ) medical information ; ( B ) an individualized list or description based on the payment transactions of the consumer for medical products or services ; or ( C ) an aggregate list of identified consumers based on payment transactions for medical products or services.  This company has also violated H.R.2537 - Consumer Protection for Medical Debt Collecti'"
     ]
    }
   ],
   "source": [
    "text= \"I received my credit report and noticed Elevate Recoveries , LLC placed an open collection on my report in the amount {$2200.00}.  First, I do not have a legal contract with this company. Secondly, Elevate Recoveries is in violation of consumer law code 15 USC 1681a Section 3. Per 15 USC 1681a Section 3 Restriction on sharing of medical information.Except for information or any communication of information disclosed as provided in section 1681b ( g ) ( 3 ) of this title, the exclusions in paragraph ( 2 ) shall not apply with respect to information disclosed to any person related by common ownership or affiliated by corporate control, if the information is ( A ) medical information ; ( B ) an individualized list or description based on the payment transactions of the consumer for medical products or services ; or ( C ) an aggregate list of identified consumers based on payment transactions for medical products or services.  This company has also violated H.R.2537 - Consumer Protection for Medical Debt Collecti\"\n",
    "text_vectorized = encoder.transform([text])\n",
    "# Make predictions\n",
    "prediction = best_model.predict(text_vectorized)[0]\n",
    "score = max(best_model.predict_proba(text_vectorized)[0])\n",
    "new = encoder.inverse_transform([prediction])[0]\n",
    "score"
   ]
  },
  {
   "cell_type": "code",
   "execution_count": 114,
   "id": "5be71ff7",
   "metadata": {},
   "outputs": [
    {
     "data": {
      "text/plain": [
       "0.0"
      ]
     },
     "execution_count": 114,
     "metadata": {},
     "output_type": "execute_result"
    }
   ],
   "source": [
    "round(float(2.841446621579624e-05),3)"
   ]
  },
  {
   "cell_type": "code",
   "execution_count": 109,
   "id": "63405abe",
   "metadata": {},
   "outputs": [
    {
     "data": {
      "text/plain": [
       "0.0899284722486562"
      ]
     },
     "execution_count": 109,
     "metadata": {},
     "output_type": "execute_result"
    }
   ],
   "source": [
    "float(\"8.99284722486562e-02\")"
   ]
  },
  {
   "cell_type": "code",
   "execution_count": null,
   "id": "14feb5cf",
   "metadata": {},
   "outputs": [],
   "source": []
  }
 ],
 "metadata": {
  "kernelspec": {
   "display_name": "consumer",
   "language": "python",
   "name": "consumer"
  },
  "language_info": {
   "codemirror_mode": {
    "name": "ipython",
    "version": 3
   },
   "file_extension": ".py",
   "mimetype": "text/x-python",
   "name": "python",
   "nbconvert_exporter": "python",
   "pygments_lexer": "ipython3",
   "version": "3.10.12"
  }
 },
 "nbformat": 4,
 "nbformat_minor": 5
}
